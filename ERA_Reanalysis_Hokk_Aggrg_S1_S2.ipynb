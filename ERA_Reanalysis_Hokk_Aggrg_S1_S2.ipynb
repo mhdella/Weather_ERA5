{
 "cells": [
  {
   "cell_type": "markdown",
   "metadata": {},
   "source": [
    "https://retostauffer.org/code/Download-ERA5/ and the original data from https://cds.climate.copernicus.eu/\n",
    "\n",
    "Product identifier: reanalysis-era5-pressure-levels as we are interested in pressure level data\n",
    "Product type: reanalysis (as before)\n",
    "Format: instead of downloading grib1 data we would like to have NetCDF data. This is nice as the grib1 file format is a bit unhandy sometimes and can be specified using the format key.\n",
    "Spatial extent: the keyword area allows to download a very specific subset. The definition is N/E/S/W in degrees longitude and latitude. Negative values correspond to S and E. In this case a domain over Europe.\n",
    "Fields: we would like to get geopotential height and temperature (variable) on two levels, namely 900 and 700 hectopascal (pressure_level).\n",
    "As we are interested in 00 UTC data for 2018 we simply specify \"time\":\"00\", \"year\":\"2018\", all months (01 to 12) and all days (01 to 31). Don’t worry that some combinations do not exist (e.g., February 31), the API will simply ignore these fields."
   ]
  },
  {
   "cell_type": "code",
   "execution_count": 1,
   "metadata": {},
   "outputs": [],
   "source": [
    "import cdsapi"
   ]
  },
  {
   "cell_type": "code",
   "execution_count": 2,
   "metadata": {},
   "outputs": [],
   "source": [
    "# Open a new Client instance\n",
    "c = cdsapi.Client()"
   ]
  },
  {
   "cell_type": "markdown",
   "metadata": {},
   "source": [
    "# Let's see this location or area: Hokkaido island in Japan\n",
    "Spatial extent: the keyword area allows to download a very specific subset. The definition is N/E/S/W in degrees longitude and latitude. Negative values correspond to S and E. In this case a domain over Europe.\n",
    "import cdsapi\n",
    "\n",
    "https://cds.climate.copernicus.eu/cdsapp#!/dataset/reanalysis-era5-single-levels?tab=overview\n",
    "\n",
    "'year':['2017','2018'], ###too large request, it leads to following Error message:\n",
    "    \n",
    "Exception: the request you have submitted is not valid. Request too large. Requesting 192720 items, limit is 100000."
   ]
  },
  {
   "cell_type": "code",
   "execution_count": 3,
   "metadata": {},
   "outputs": [
    {
     "name": "stderr",
     "output_type": "stream",
     "text": [
      "2019-03-12 14:08:46,572 INFO Sending request to https://cds.climate.copernicus.eu/api/v2/resources/reanalysis-era5-single-levels\n",
      "2019-03-12 14:08:47,160 INFO Request is queued\n",
      "2019-03-12 14:15:53,521 WARNING Recovering from connection error [('Connection aborted.', TimeoutError(10060, 'A connection attempt failed because the connected party did not properly respond after a period of time, or established connection failed because connected host has failed to respond', None, 10060, None))], attemps 0 of 500\n",
      "2019-03-12 14:15:53,521 WARNING Retrying in 120 seconds\n",
      "2019-03-12 14:44:00,144 INFO Request is completed\n",
      "2019-03-12 14:44:00,144 INFO Downloading http://136.156.132.235/cache-compute-0006/cache/data1/adaptor.mars.internal-1552416149.1801565-10068-7-b96ac096-a26c-438b-b371-1a2110bffa47.nc to Hokk_S1_S2_Reanalyis_Jan_2019.nc (8K)\n",
      "2019-03-12 14:44:00,429 INFO Download rate 29.8K/s\n"
     ]
    },
    {
     "data": {
      "text/plain": [
       "Result(content_length=8224,content_type=application/x-netcdf,location=http://136.156.132.235/cache-compute-0006/cache/data1/adaptor.mars.internal-1552416149.1801565-10068-7-b96ac096-a26c-438b-b371-1a2110bffa47.nc)"
      ]
     },
     "execution_count": 3,
     "metadata": {},
     "output_type": "execute_result"
    }
   ],
   "source": [
    "#lets see Hokkaido island in Japan\n",
    "# More complex request\n",
    "c.retrieve('reanalysis-era5-single-levels', {\n",
    "        \"product_type\":   \"reanalysis\",\n",
    "        \"format\":         \"netcdf\",\n",
    "    \n",
    "        \"area\":  \"44/141/42/145\", \n",
    "    \n",
    "        \"variable\": ['10m_u_component_of_wind','10m_v_component_of_wind','2m_temperature',\n",
    "                      'snow_albedo','snow_depth','surface_solar_radiation_downward_clear_sky',\n",
    "                      'surface_solar_radiation_downwards','total_cloud_cover','total_column_cloud_ice_water',\n",
    "                      'total_column_cloud_liquid_water','total_precipitation'],\n",
    "    \n",
    "#        'year':['2017','2018'], ###too large request\n",
    "#        'year':['2018'], \n",
    "       'year':['2019'], \n",
    "    \n",
    "#         \"month\":          [\"01\",\"02\",\"03\",\"04\",\"05\",\"06\",\"07\",\"08\",\"09\",\"10\",\"11\",\"12\"],\n",
    "#         \"month\":          [\"01\",\"02\",\"03\",\"04\",\"05\",\"06\"],\n",
    "#         \"month\":          [\"07\",\"08\",\"09\",\"10\",\"11\",\"12\"],\n",
    "        \"month\":          [\"1\"],\n",
    "\n",
    "\n",
    "        \"day\":            [\"01\",\"02\",\"03\",\"04\",\"05\",\"06\",\"07\",\"08\",\"09\",\"10\",\"11\",\n",
    "                           \"12\",\"13\",\"14\",\"15\",\"16\",\"17\",\"18\",\"19\",\"20\",\"21\",\"22\",\n",
    "                           \"23\",\"24\",\"25\",\"26\",\"27\",\"28\",\"29\",\"30\",\"31\"],\n",
    "    \n",
    "       'time':['00:00','01:00','02:00','03:00','04:00','05:00','06:00',\n",
    "               '07:00','08:00','09:00','10:00','11:00','12:00','13:00',\n",
    "               '14:00','15:00','16:00','17:00','18:00','19:00','20:00',\n",
    "               '21:00','22:00','23:00'],\n",
    "    \n",
    "    }, \"Hokk_S1_S2_Reanalyis_Jan_2019.nc\")\n",
    "#     }, \"Hokk_S1_S2_Reanalyis_2018.nc\")"
   ]
  },
  {
   "cell_type": "code",
   "execution_count": null,
   "metadata": {},
   "outputs": [],
   "source": []
  },
  {
   "cell_type": "code",
   "execution_count": null,
   "metadata": {},
   "outputs": [],
   "source": [
    "\n"
   ]
  },
  {
   "cell_type": "code",
   "execution_count": null,
   "metadata": {},
   "outputs": [],
   "source": []
  },
  {
   "cell_type": "code",
   "execution_count": null,
   "metadata": {},
   "outputs": [],
   "source": []
  },
  {
   "cell_type": "code",
   "execution_count": null,
   "metadata": {},
   "outputs": [],
   "source": []
  },
  {
   "cell_type": "code",
   "execution_count": null,
   "metadata": {},
   "outputs": [],
   "source": []
  },
  {
   "cell_type": "code",
   "execution_count": null,
   "metadata": {},
   "outputs": [],
   "source": []
  }
 ],
 "metadata": {
  "kernelspec": {
   "display_name": "Python 3",
   "language": "python",
   "name": "python3"
  },
  "language_info": {
   "codemirror_mode": {
    "name": "ipython",
    "version": 3
   },
   "file_extension": ".py",
   "mimetype": "text/x-python",
   "name": "python",
   "nbconvert_exporter": "python",
   "pygments_lexer": "ipython3",
   "version": "3.7.0"
  }
 },
 "nbformat": 4,
 "nbformat_minor": 2
}
