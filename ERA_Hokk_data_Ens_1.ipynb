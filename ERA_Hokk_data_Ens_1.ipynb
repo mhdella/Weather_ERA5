{
 "cells": [
  {
   "cell_type": "markdown",
   "metadata": {},
   "source": [
    "https://retostauffer.org/code/Download-ERA5/ and the original data from https://cds.climate.copernicus.eu/\n",
    "\n",
    "Product identifier: reanalysis-era5-pressure-levels as we are interested in pressure level data\n",
    "Product type: reanalysis (as before)\n",
    "Format: instead of downloading grib1 data we would like to have NetCDF data. This is nice as the grib1 file format is a bit unhandy sometimes and can be specified using the format key.\n",
    "Spatial extent: the keyword area allows to download a very specific subset. The definition is N/E/S/W in degrees longitude and latitude. Negative values correspond to S and E. In this case a domain over Europe.\n",
    "Fields: we would like to get geopotential height and temperature (variable) on two levels, namely 900 and 700 hectopascal (pressure_level).\n",
    "As we are interested in 00 UTC data for 2018 we simply specify \"time\":\"00\", \"year\":\"2018\", all months (01 to 12) and all days (01 to 31). Don’t worry that some combinations do not exist (e.g., February 31), the API will simply ignore these fields."
   ]
  },
  {
   "cell_type": "code",
   "execution_count": 1,
   "metadata": {},
   "outputs": [],
   "source": [
    "import cdsapi"
   ]
  },
  {
   "cell_type": "code",
   "execution_count": 2,
   "metadata": {},
   "outputs": [],
   "source": [
    "# Open a new Client instance\n",
    "c = cdsapi.Client()"
   ]
  },
  {
   "cell_type": "markdown",
   "metadata": {},
   "source": [
    "# Let's see this location or area: Hokkaido island in Japan\n",
    "Spatial extent: the keyword area allows to download a very specific subset. The definition is N/E/S/W in degrees longitude and latitude. Negative values correspond to S and E. In this case a domain over Europe.\n",
    "import cdsapi\n",
    "\n",
    "https://cds.climate.copernicus.eu/cdsapp#!/dataset/reanalysis-era5-single-levels?tab=overview\n",
    "\n",
    "'year':['2017','2018'], ###too large request leads to following Error message:\n",
    "    \n",
    "Exception: the request you have submitted is not valid. Request too large. Requesting 192720 items, limit is 100000."
   ]
  },
  {
   "cell_type": "code",
   "execution_count": 3,
   "metadata": {},
   "outputs": [
    {
     "name": "stderr",
     "output_type": "stream",
     "text": [
      "2019-03-04 07:05:00,480 INFO Sending request to https://cds.climate.copernicus.eu/api/v2/resources/reanalysis-era5-single-levels\n",
      "2019-03-04 07:05:01,180 INFO Request is queued\n",
      "2019-03-04 08:11:35,541 INFO Request is running\n",
      "2019-03-04 09:07:49,082 INFO Request is completed\n",
      "2019-03-04 09:07:49,091 INFO Downloading http://136.156.132.201/cache-compute-0004/cache/data1/adaptor.mars.internal-1551705158.2753756-31128-8-9af35d43-0868-47b6-a0bf-1bbdbadfb70b.nc to Hokk_Agg_Ens_2017_2018_T_SSRD_CC.nc (11.7M)\n",
      "2019-03-04 09:07:54,060 INFO Download rate 2.4M/s\n"
     ]
    },
    {
     "data": {
      "text/plain": [
       "Result(content_length=12289240,content_type=application/x-netcdf,location=http://136.156.132.201/cache-compute-0004/cache/data1/adaptor.mars.internal-1551705158.2753756-31128-8-9af35d43-0868-47b6-a0bf-1bbdbadfb70b.nc)"
      ]
     },
     "execution_count": 3,
     "metadata": {},
     "output_type": "execute_result"
    }
   ],
   "source": [
    "#lets see Hokkaido island in Japan\n",
    "# More complex request\n",
    "c.retrieve('reanalysis-era5-single-levels', {\n",
    "#     \"product_type\":   \"reanalysis\",\n",
    "        'product_type':'ensemble_members',\n",
    "#         'format':'grib',\n",
    "        \"format\":         \"netcdf\",\n",
    "        \"area\":           \"43/142/41/145\",\n",
    "     'variable':['2m_temperature','surface_solar_radiation_downwards','total_cloud_cover'],\n",
    "    \n",
    "#         'variable':['10m_u_component_of_wind','10m_v_component_of_wind','2m_temperature',\n",
    "#                     'snow_albedo','snow_depth','surface_solar_radiation_downward_clear_sky',\n",
    "#                     'surface_solar_radiation_downwards','total_cloud_cover','total_column_cloud_ice_water',\n",
    "#                     'total_column_cloud_liquid_water','total_precipitation'],\n",
    "    \n",
    "'year':['2017','2018'],\n",
    "#     'year':['2017'],\n",
    "    \n",
    "        'month':[\n",
    "            '01','02','03',\n",
    "            '04','05','06',\n",
    "            '07','08','09',\n",
    "            '10','11','12'],\n",
    "#           'month':['12'],\n",
    "    \n",
    "        'day':[\n",
    "            '01','02','03',\n",
    "            '04','05','06',\n",
    "            '07','08','09',\n",
    "            '10','11','12',\n",
    "            '13','14','15',\n",
    "            '16','17','18',\n",
    "            '19','20','21',\n",
    "            '22','23','24',\n",
    "            '25','26','27',\n",
    "            '28','29','30',\n",
    "            '31'],\n",
    "        'time':[\n",
    "            '00:00','03:00','06:00',\n",
    "            '09:00','12:00','15:00',\n",
    "            '18:00','21:00'],\n",
    "    \n",
    "    }, \n",
    "           \"Hokk_Agg_Ens_2017_2018_T_SSRD_CC.nc\")"
   ]
  },
  {
   "cell_type": "code",
   "execution_count": null,
   "metadata": {},
   "outputs": [],
   "source": []
  },
  {
   "cell_type": "code",
   "execution_count": null,
   "metadata": {},
   "outputs": [],
   "source": [
    "\n"
   ]
  },
  {
   "cell_type": "code",
   "execution_count": null,
   "metadata": {},
   "outputs": [],
   "source": []
  },
  {
   "cell_type": "code",
   "execution_count": null,
   "metadata": {},
   "outputs": [],
   "source": []
  },
  {
   "cell_type": "code",
   "execution_count": null,
   "metadata": {},
   "outputs": [],
   "source": []
  },
  {
   "cell_type": "code",
   "execution_count": null,
   "metadata": {},
   "outputs": [],
   "source": []
  },
  {
   "cell_type": "code",
   "execution_count": null,
   "metadata": {},
   "outputs": [],
   "source": []
  }
 ],
 "metadata": {
  "kernelspec": {
   "display_name": "Python 3",
   "language": "python",
   "name": "python3"
  },
  "language_info": {
   "codemirror_mode": {
    "name": "ipython",
    "version": 3
   },
   "file_extension": ".py",
   "mimetype": "text/x-python",
   "name": "python",
   "nbconvert_exporter": "python",
   "pygments_lexer": "ipython3",
   "version": "3.7.0"
  }
 },
 "nbformat": 4,
 "nbformat_minor": 2
}
