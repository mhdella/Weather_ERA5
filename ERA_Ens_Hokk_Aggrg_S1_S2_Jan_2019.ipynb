{
 "cells": [
  {
   "cell_type": "markdown",
   "metadata": {},
   "source": [
    "https://retostauffer.org/code/Download-ERA5/ and the original data from https://cds.climate.copernicus.eu/\n",
    "\n",
    "Product identifier: reanalysis-era5-pressure-levels as we are interested in pressure level data\n",
    "Product type: reanalysis (as before)\n",
    "Format: instead of downloading grib1 data we would like to have NetCDF data. This is nice as the grib1 file format is a bit unhandy sometimes and can be specified using the format key.\n",
    "Spatial extent: the keyword area allows to download a very specific subset. The definition is N/E/S/W in degrees longitude and latitude. Negative values correspond to S and E. In this case a domain over Europe.\n",
    "Fields: we would like to get geopotential height and temperature (variable) on two levels, namely 900 and 700 hectopascal (pressure_level).\n",
    "As we are interested in 00 UTC data for 2018 we simply specify \"time\":\"00\", \"year\":\"2018\", all months (01 to 12) and all days (01 to 31). Don’t worry that some combinations do not exist (e.g., February 31), the API will simply ignore these fields."
   ]
  },
  {
   "cell_type": "markdown",
   "metadata": {},
   "source": [
    "https://cds.climate.copernicus.eu/cdsapp#!/dataset/reanalysis-era5-single-levels?tab=overview\n",
    "# This script for retreiving forcasts from Ensemble members @ Hokkaido island in Japan\n",
    "\n",
    "c.retrieve(\n",
    "    'reanalysis-era5-single-levels',\n",
    "    {\n",
    "        'product_type':'ensemble_members',"
   ]
  },
  {
   "cell_type": "code",
   "execution_count": 1,
   "metadata": {},
   "outputs": [
    {
     "name": "stderr",
     "output_type": "stream",
     "text": [
      "2019-03-13 12:12:03,331 INFO Sending request to https://cds.climate.copernicus.eu/api/v2/resources/reanalysis-era5-single-levels\n",
      "2019-03-13 12:12:03,988 INFO Request is queued\n",
      "2019-03-13 12:34:28,096 INFO Request is completed\n",
      "2019-03-13 12:34:28,098 INFO Downloading http://136.156.132.235/cache-compute-0006/cache/data3/adaptor.mars.internal-1552494836.3189075-18658-3-06b18755-d5ca-4a1b-9b27-b00679e6f1eb.nc to Hokk_Ens_Agg_lat42_44_Jan_Feb2019_Mar13.nc (9.7K)\n",
      "2019-03-13 12:34:28,370 INFO Download rate 36.1K/s\n"
     ]
    },
    {
     "data": {
      "text/plain": [
       "Result(content_length=9980,content_type=application/x-netcdf,location=http://136.156.132.235/cache-compute-0006/cache/data3/adaptor.mars.internal-1552494836.3189075-18658-3-06b18755-d5ca-4a1b-9b27-b00679e6f1eb.nc)"
      ]
     },
     "execution_count": 1,
     "metadata": {},
     "output_type": "execute_result"
    }
   ],
   "source": [
    "#lets see Hokkaido island in Japan\n",
    "\n",
    "import cdsapi\n",
    "\n",
    "c = cdsapi.Client()\n",
    "\n",
    "c.retrieve(\n",
    "    'reanalysis-era5-single-levels',\n",
    "    {\n",
    "        'product_type':'ensemble_members',\n",
    "#         'format':'grib',\n",
    "        \"format\":         \"netcdf\",\n",
    "        \n",
    "##         \"area\": \"43.17/141.33/42.56/141.84\",\n",
    "##         \"area\": \"43.81/143.29/42.63/145.04\",\n",
    "        \n",
    "#          \"area\":  \"43.17/141.33/42.56/145.04\",\n",
    "        \"area\":  \"44/141/42/145\",\n",
    "\n",
    "#         'year':['2016'],\n",
    "#       'year':['2017','2018'],\n",
    "      'year':['2019'],\n",
    " \n",
    "#         'month':[\n",
    "#             '01','02','03',\n",
    "#             '04','05','06',\n",
    "#             '07','08','09',\n",
    "#             '10','11','12'\n",
    "#         ],\n",
    "    'month':['01','02'],\n",
    "        'day':[\n",
    "            '01','02','03',\n",
    "            '04','05','06',\n",
    "            '07','08','09',\n",
    "            '10','11','12',\n",
    "            '13','14','15',\n",
    "            '16','17','18',\n",
    "            '19','20','21',\n",
    "            '22','23','24',\n",
    "            '25','26','27',\n",
    "            '28','29','30',\n",
    "            '31'\n",
    "        ],\n",
    "        'time':[\n",
    "            '00:00','03:00','06:00',\n",
    "            '09:00','12:00','15:00',\n",
    "            '18:00','21:00'\n",
    "        ],\n",
    "       'variable':[\n",
    "            '10m_u_component_of_wind','10m_v_component_of_wind','2m_temperature',\n",
    "            'snow_albedo','snow_depth','surface_solar_radiation_downward_clear_sky',\n",
    "            'surface_solar_radiation_downwards','total_cloud_cover','total_column_cloud_ice_water',\n",
    "            'total_column_cloud_liquid_water','total_precipitation'\n",
    "        ]\n",
    "    },\n",
    "#     'Hokk_Ens_Agg_lat42_44_12vars_2016_17_18.grib')\n",
    "    \n",
    "\"Hokk_Ens_Agg_lat42_44_Jan_Feb2019_Mar13.nc\")\n",
    "#         \"Hokk_Ens_Agg_lat42_44_12vars_2016.nc\")\n"
   ]
  },
  {
   "cell_type": "code",
   "execution_count": null,
   "metadata": {},
   "outputs": [],
   "source": []
  },
  {
   "cell_type": "code",
   "execution_count": null,
   "metadata": {},
   "outputs": [],
   "source": [
    "\n"
   ]
  },
  {
   "cell_type": "code",
   "execution_count": null,
   "metadata": {},
   "outputs": [],
   "source": []
  },
  {
   "cell_type": "code",
   "execution_count": null,
   "metadata": {},
   "outputs": [],
   "source": []
  },
  {
   "cell_type": "code",
   "execution_count": null,
   "metadata": {},
   "outputs": [],
   "source": []
  },
  {
   "cell_type": "code",
   "execution_count": null,
   "metadata": {},
   "outputs": [],
   "source": []
  },
  {
   "cell_type": "code",
   "execution_count": null,
   "metadata": {},
   "outputs": [],
   "source": []
  }
 ],
 "metadata": {
  "kernelspec": {
   "display_name": "Python 3",
   "language": "python",
   "name": "python3"
  },
  "language_info": {
   "codemirror_mode": {
    "name": "ipython",
    "version": 3
   },
   "file_extension": ".py",
   "mimetype": "text/x-python",
   "name": "python",
   "nbconvert_exporter": "python",
   "pygments_lexer": "ipython3",
   "version": "3.7.0"
  }
 },
 "nbformat": 4,
 "nbformat_minor": 2
}
