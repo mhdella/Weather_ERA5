{
 "cells": [
  {
   "cell_type": "markdown",
   "metadata": {},
   "source": [
    "# Resample with xarray:\n",
    "\n",
    "https://stackoverflow.com/questions/50506347/operation-along-year-with-xarray\n",
    "\n",
    "In the below link: Organizing daily Excel data into xarray dataset  (There is a nice 3-D figure represents the N-Data array)\n",
    "\n",
    "https://stackoverflow.com/questions/41904951/organizing-daily-excel-data-into-xarray-dataset\n",
    "\n",
    "https://medium.com/pangeo/step-by-step-guide-to-building-a-big-data-portal-e262af1c2977\n",
    "\n",
    "https://stackoverflow.com/questions/40544846/read-multiple-coordinates-with-xarray\n",
    "\n",
    "http://stephanhoyer.com/2015/06/11/xray-dask-out-of-core-labeled-arrays/\n"
   ]
  },
  {
   "cell_type": "code",
   "execution_count": 143,
   "metadata": {},
   "outputs": [],
   "source": [
    "%matplotlib inline\n",
    "import numpy as np\n",
    "import xarray as xr\n",
    "import datetime as dt\n",
    "import matplotlib.pyplot as plt"
   ]
  },
  {
   "cell_type": "code",
   "execution_count": 50,
   "metadata": {},
   "outputs": [
    {
     "data": {
      "text/plain": [
       "<xarray.Dataset>\n",
       "Dimensions:  (number: 10, time: 8)\n",
       "Coordinates:\n",
       "  * number   (number) int32 0 1 2 3 4 5 6 7 8 9\n",
       "  * time     (time) datetime64[ns] 2017-01-01 ... 2017-01-01T21:00:00\n",
       "Data variables:\n",
       "    u10      (time, number) float32 6.455375 13.561745 ... 11.478749 17.049562\n",
       "    v10      (time, number) float32 14.842304 13.009474 ... 14.130638 1.0267302\n",
       "    t2m      (time, number) float32 294.8644 302.89862 ... 300.94647 299.64136\n",
       "    asn      (time, number) float32 0.8447724 0.7709349 ... 0.84997314 0.8614609\n",
       "    sd       (time, number) float32 0.16576606 0.22333804 ... 0.2209382\n",
       "    ssrdc    (time, number) float32 8926541.0 9398559.0 ... 7235145.0 7391869.0\n",
       "    ssrd     (time, number) float32 9821467.0 8115192.0 ... 9900984.0 9901138.0\n",
       "    tcc      (time, number) float32 0.9629195 0.92849404 ... 0.99993896 0.969481\n",
       "    tciw     (time, number) float32 0.61522216 0.8791555 ... 0.63662213\n",
       "    tclw     (time, number) float32 0.9706412 0.94882774 ... 1.4505367 1.2978427\n",
       "    tp       (time, number) float32 0.020370886 0.031085564 ... 0.03348502"
      ]
     },
     "execution_count": 50,
     "metadata": {},
     "output_type": "execute_result"
    }
   ],
   "source": [
    "###http://stephanhoyer.com/2015/06/11/xray-dask-out-of-core-labeled-arrays/\n",
    "ds=xr.open_dataset('Hokk_Ens_Aggreg_S1_S2_2017_2018.nc')\n",
    "ds.sel(time='2017-1-1').max(['latitude', 'longitude'])"
   ]
  },
  {
   "cell_type": "code",
   "execution_count": 52,
   "metadata": {},
   "outputs": [],
   "source": [
    "# axis labels are (time, latitude, longitude)\n",
    "ds.t2m.values[[40, 41, 42, 43, 44, 45, 46, 47]].max(axis=(1, 2))\n",
    "dst2m=ds.t2m"
   ]
  },
  {
   "cell_type": "code",
   "execution_count": 61,
   "metadata": {},
   "outputs": [],
   "source": [
    "# dst2m.to_netcdf('my-dataset2.nc') ## To save data as netcdf  (nc file)\n",
    "# saved_ds = xr.open_dataset('my-dataset2.nc')\n",
    "# assert saved_ds.equals(dst2m)\n",
    "# saved_ds"
   ]
  },
  {
   "cell_type": "markdown",
   "metadata": {},
   "source": [
    "Or you might pass your data off to pandas for further analysis in tabular form: https://xray.readthedocs.io/en/stable/pandas.html"
   ]
  },
  {
   "cell_type": "code",
   "execution_count": 118,
   "metadata": {},
   "outputs": [
    {
     "name": "stdout",
     "output_type": "stream",
     "text": [
      "Wall time: 0 ns\n"
     ]
    },
    {
     "data": {
      "text/plain": [
       "4.401648998260498"
      ]
     },
     "execution_count": 118,
     "metadata": {},
     "output_type": "execute_result"
    }
   ],
   "source": [
    "import time\n",
    "import sys\n",
    "df_t2m= dst2m.to_dataframe();\n",
    "df_tCdeg = df_t2m-273.15;  #convert temperature from Kelvin to Celsius\n",
    "# %time float(df_tCdeg.mean())\n",
    "# df_tCdeg.head()\n",
    "# df.describe()\n",
    "%time float(df_tCdeg.mean())  #calculate time and CPU time\n",
    "\n",
    "\n",
    "#####%time 9 / 5.0 * (df_t2m - 273.15) + 32; # convert from Kelvin to degrees Fahrenheit\n",
    "\n",
    "# ds.nbytes * (2 ** -30)"
   ]
  },
  {
   "cell_type": "markdown",
   "metadata": {},
   "source": [
    "http://stephanhoyer.com/2015/06/11/xray-dask-out-of-core-labeled-arrays/#fn:1\n",
    "\n",
    "For distributed computation that lets us automatically parallelize grouped operations written like:\n",
    "\n",
    "s.groupby('some variable').apply(f),  where f is a function on NumPy arrays."
   ]
  },
  {
   "cell_type": "code",
   "execution_count": 137,
   "metadata": {},
   "outputs": [
    {
     "name": "stdout",
     "output_type": "stream",
     "text": [
      "Wall time: 1.94 s\n"
     ]
    }
   ],
   "source": [
    "%%time\n",
    "# everything is fast until we compute values\n",
    "ds_by_season = ds.groupby('time.season').mean('time')\n",
    "t2m_range = abs(ds_by_season.sel(season='JJA')- ds_by_season.sel(season='DJF')).t2m"
   ]
  },
  {
   "cell_type": "code",
   "execution_count": 138,
   "metadata": {},
   "outputs": [
    {
     "name": "stdout",
     "output_type": "stream",
     "text": [
      "Wall time: 9.77 ms\n"
     ]
    }
   ],
   "source": [
    "# now we calculate the actual result\n",
    "%time result = t2m_range.load()"
   ]
  },
  {
   "cell_type": "code",
   "execution_count": 146,
   "metadata": {},
   "outputs": [],
   "source": [
    "####In case of climatic data of temperature from 1979 to 2015\n",
    "####http://stephanhoyer.com/2015/06/11/xray-dask-out-of-core-labeled-arrays/#fn:1\n",
    "# from datetime import datetime, timedelta \n",
    "# import numpy as np\n",
    "# plt.figure(figsize=(15, 6))\n",
    "# plt.imshow(result, cmap='cubehelix', vmin=0, vmax=60,\n",
    "#            extent=[43, 43, 142, 144], interpolation='nearest')\n",
    "# plt.title('Summer minus winter mean temperature')\n",
    "# plt.colorbar(label='degrees C', extend='max');"
   ]
  },
  {
   "cell_type": "markdown",
   "metadata": {},
   "source": [
    "http://www.matteodefelice.name/post/c3s-multimodel/\n",
    "Now I can merge the models using the concatenation function from xarray. For this operation you have to specify along which dimension you want to concatenate along the data cubes and, very important, the dimensions must be consistent, otherwise everything will become very messy!"
   ]
  },
  {
   "cell_type": "code",
   "execution_count": null,
   "metadata": {},
   "outputs": [],
   "source": []
  },
  {
   "cell_type": "code",
   "execution_count": null,
   "metadata": {},
   "outputs": [],
   "source": []
  },
  {
   "cell_type": "code",
   "execution_count": null,
   "metadata": {},
   "outputs": [],
   "source": []
  },
  {
   "cell_type": "code",
   "execution_count": null,
   "metadata": {},
   "outputs": [],
   "source": []
  },
  {
   "cell_type": "code",
   "execution_count": null,
   "metadata": {},
   "outputs": [],
   "source": []
  },
  {
   "cell_type": "code",
   "execution_count": null,
   "metadata": {},
   "outputs": [],
   "source": []
  },
  {
   "cell_type": "code",
   "execution_count": null,
   "metadata": {},
   "outputs": [],
   "source": []
  },
  {
   "cell_type": "code",
   "execution_count": null,
   "metadata": {},
   "outputs": [],
   "source": []
  },
  {
   "cell_type": "code",
   "execution_count": null,
   "metadata": {},
   "outputs": [],
   "source": []
  }
 ],
 "metadata": {
  "kernelspec": {
   "display_name": "Python 3",
   "language": "python",
   "name": "python3"
  },
  "language_info": {
   "codemirror_mode": {
    "name": "ipython",
    "version": 3
   },
   "file_extension": ".py",
   "mimetype": "text/x-python",
   "name": "python",
   "nbconvert_exporter": "python",
   "pygments_lexer": "ipython3",
   "version": "3.7.0"
  }
 },
 "nbformat": 4,
 "nbformat_minor": 1
}
