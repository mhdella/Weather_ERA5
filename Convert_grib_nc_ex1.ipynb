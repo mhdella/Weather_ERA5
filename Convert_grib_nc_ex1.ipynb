{
 "cells": [
  {
   "cell_type": "markdown",
   "metadata": {},
   "source": [
    "How to convert GRIB to CSV https://confluence.ecmwf.int/display/CKB/How+to+convert+GRIB+to+CSV\n",
    "\n",
    "Extract data from GRIB/NetCDF for a specific location and time https://confluence.ecmwf.int/pages/viewpage.action?pageId=81014955\n",
    "\n",
    "ecCode for converting ECMWF to CSV https://confluence.ecmwf.int/display/ECC/ecCodes+Home  (linux)\n",
    "\n",
    "Python 3 interface for ecCodes https://confluence.ecmwf.int/display/ECC/Python+3+interface+for+ecCodes"
   ]
  },
  {
   "cell_type": "code",
   "execution_count": 1,
   "metadata": {},
   "outputs": [
    {
     "ename": "ModuleNotFoundError",
     "evalue": "No module named 'ecmwfapi'",
     "output_type": "error",
     "traceback": [
      "\u001b[1;31m---------------------------------------------------------------------------\u001b[0m",
      "\u001b[1;31mModuleNotFoundError\u001b[0m                       Traceback (most recent call last)",
      "\u001b[1;32m<ipython-input-1-e187e7952031>\u001b[0m in \u001b[0;36m<module>\u001b[1;34m()\u001b[0m\n\u001b[0;32m      1\u001b[0m \u001b[1;31m#!/usr/bin/env python\u001b[0m\u001b[1;33m\u001b[0m\u001b[1;33m\u001b[0m\u001b[0m\n\u001b[1;32m----> 2\u001b[1;33m \u001b[1;32mfrom\u001b[0m \u001b[0mecmwfapi\u001b[0m \u001b[1;32mimport\u001b[0m \u001b[0mECMWFDataServer\u001b[0m\u001b[1;33m\u001b[0m\u001b[0m\n\u001b[0m\u001b[0;32m      3\u001b[0m \u001b[0mserver\u001b[0m \u001b[1;33m=\u001b[0m \u001b[0mECMWFDataServer\u001b[0m\u001b[1;33m(\u001b[0m\u001b[1;33m)\u001b[0m\u001b[1;33m\u001b[0m\u001b[0m\n\u001b[0;32m      4\u001b[0m server.retrieve({\n\u001b[0;32m      5\u001b[0m     \u001b[1;34m\"class\"\u001b[0m\u001b[1;33m:\u001b[0m \u001b[1;34m\"ea\"\u001b[0m\u001b[1;33m,\u001b[0m\u001b[1;33m\u001b[0m\u001b[0m\n",
      "\u001b[1;31mModuleNotFoundError\u001b[0m: No module named 'ecmwfapi'"
     ]
    }
   ],
   "source": [
    "#!/usr/bin/env python\n",
    "from ecmwfapi import ECMWFDataServer\n",
    "server = ECMWFDataServer()\n",
    "server.retrieve({\n",
    "    \"class\": \"ea\",\n",
    "    \"dataset\": \"era5\",\n",
    "    \"date\": \"2010-08-01/to/2010-08-31\",\n",
    "    \"expver\": \"1\",\n",
    "    \"levtype\": \"sfc\",\n",
    "    \"param\": \"134.128\",\n",
    "    \"stream\": \"oper\",\n",
    "    \"time\": \"00/to/23/by/1\",\n",
    "    \"type\": \"an\",\n",
    "    # ----- For GRIB version, specify target file name ------\n",
    "    \"target\": \"e5-sp-201008xx.grib\",\n",
    "    # ----- For NetCDF version, specify grid, format and target file name ------\n",
    "    \"grid\": \"0.5/0.5\",\n",
    "    \"format\": \"netcdf\",\n",
    "    \"target\": \"e5-sp-201008xx.nc\",\n",
    " })"
   ]
  },
  {
   "cell_type": "code",
   "execution_count": null,
   "metadata": {},
   "outputs": [],
   "source": []
  },
  {
   "cell_type": "code",
   "execution_count": null,
   "metadata": {},
   "outputs": [],
   "source": []
  },
  {
   "cell_type": "code",
   "execution_count": null,
   "metadata": {},
   "outputs": [],
   "source": []
  },
  {
   "cell_type": "code",
   "execution_count": null,
   "metadata": {},
   "outputs": [],
   "source": []
  },
  {
   "cell_type": "code",
   "execution_count": null,
   "metadata": {},
   "outputs": [],
   "source": []
  }
 ],
 "metadata": {
  "kernelspec": {
   "display_name": "Python 3",
   "language": "python",
   "name": "python3"
  },
  "language_info": {
   "codemirror_mode": {
    "name": "ipython",
    "version": 3
   },
   "file_extension": ".py",
   "mimetype": "text/x-python",
   "name": "python",
   "nbconvert_exporter": "python",
   "pygments_lexer": "ipython3",
   "version": "3.7.0"
  }
 },
 "nbformat": 4,
 "nbformat_minor": 1
}
