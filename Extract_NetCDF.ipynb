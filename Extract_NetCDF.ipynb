{
 "cells": [
  {
   "cell_type": "markdown",
   "metadata": {},
   "source": [
    "https://stackoverflow.com/questions/50506347/operation-along-year-with-xarray\n",
    "\n",
    "In the below link: Organizing daily Excel data into xarray dataset  (There is a nice 3-D figure represents the N-Data array)\n",
    "\n",
    "https://stackoverflow.com/questions/41904951/organizing-daily-excel-data-into-xarray-dataset\n",
    "\n",
    "https://medium.com/pangeo/step-by-step-guide-to-building-a-big-data-portal-e262af1c2977\n",
    "\n",
    "https://stackoverflow.com/questions/40544846/read-multiple-coordinates-with-xarray\n",
    "\n",
    "http://stephanhoyer.com/2015/06/11/xray-dask-out-of-core-labeled-arrays/\n",
    "\n",
    "You might pass your data off to pandas for further analysis in tabular form: https://xray.readthedocs.io/en/stable/pandas.html\n",
    "\n",
    "http://stephanhoyer.com/2015/06/11/xray-dask-out-of-core-labeled-arrays/#fn:1\n",
    "\n",
    "For distributed computation that lets us automatically parallelize grouped operations written like:\n",
    "\n",
    "s.groupby('some variable').apply(f),  where f is a function on NumPy arrays.\n"
   ]
  },
  {
   "cell_type": "code",
   "execution_count": 1,
   "metadata": {},
   "outputs": [],
   "source": [
    "%matplotlib inline\n",
    "import numpy as np\n",
    "import pandas as pd\n",
    "import xarray as xr\n",
    "import datetime as dt\n",
    "import matplotlib.pyplot as plt\n",
    "import pvlib\n",
    "# from pvlib.forecast import GFS, NAM, NDFD, HRRR, RAP"
   ]
  },
  {
   "cell_type": "code",
   "execution_count": 22,
   "metadata": {},
   "outputs": [
    {
     "data": {
      "text/plain": [
       "<xarray.Dataset>\n",
       "Dimensions:    (latitude: 5, longitude: 9, number: 10, time: 3)\n",
       "Coordinates:\n",
       "  * longitude  (longitude) float32 141.0 141.5 142.0 142.5 ... 144.0 144.5 145.0\n",
       "  * latitude   (latitude) float32 44.0 43.5 43.0 42.5 42.0\n",
       "  * number     (number) int32 0 1 2 3 4 5 6 7 8 9\n",
       "  * time       (time) datetime64[ns] 2019-01-01 ... 2019-01-01T06:00:00\n",
       "Data variables:\n",
       "    ssrdc      (time, number, latitude, longitude) float32 ...\n",
       "    ssrd       (time, number, latitude, longitude) float32 ...\n",
       "    tp         (time, number, latitude, longitude) float32 ...\n",
       "Attributes:\n",
       "    Conventions:  CF-1.6\n",
       "    history:      2019-03-13 16:34:00 GMT by grib_to_netcdf-2.10.0: /opt/ecmw..."
      ]
     },
     "execution_count": 22,
     "metadata": {},
     "output_type": "execute_result"
    }
   ],
   "source": [
    "###http://stephanhoyer.com/2015/06/11/xray-dask-out-of-core-labeled-arrays/\n",
    "\n",
    "# ds=xr.open_dataset('Hokk_Ens_Aggreg_S1_S2_2017_2018.nc')  #This data with latitude=43\n",
    "\n",
    "# ds=xr.open_dataset('Hokk_Ens_Agg_lat42_44_12vars_2016.nc')  #This data with latitude=43\n",
    "\n",
    "# ds=xr.open_dataset('Hokk_Ens_Agg_lat42_44_2017_2018.nc')  #This data with latitude ranges 42-44\n",
    "\n",
    "# ds=xr.open_dataset('Hokk_Ens_Agg_lat42_44_inclHR_2016.nc')#latitude ranges 42-44, but unfortunately no HR not exist\n",
    "\n",
    "# ds=xr.open_dataset('Hokk_Ens_Agg_lat42_44_inclHR_2017_18.nc')#atitude ranges 42-44 #latitude ranges 42-44, but unfortunately no HR not exist\n",
    "\n",
    "ds=xr.open_dataset('Hokk_Ens_Agg_lat42_44_Jan2019_3vars_exist.nc')#For Jan 2019, by March 12, 2019 from ERA data at CDS only 3 variables available\n",
    "\n",
    "\n",
    "# ds.sel(time='2017-1-1').max(['latitude', 'longitude']) \n",
    "\n",
    "# ds.sel(time='2016-1-1').max(['latitude', 'longitude'])\n",
    "\n",
    "\n",
    "ds"
   ]
  },
  {
   "cell_type": "markdown",
   "metadata": {},
   "source": [
    "# Data Variables:\n",
    "\"10m_u_component_of_wind\", \"10m_v_component_of_wind\", \"2m_temperature\", \"snow_albedo\", \"snow_depth\", \"surface_solar_radiation_downward_clear_sky\", \"surface_solar_radiation_downwards\", \"total_cloud_cover\", \"total_column_cloud_ice_water\", \"total_column_cloud_liquid_water\", \"total_precipitation\"\n",
    "\n",
    "Data variables, they are described with their units as in: https://cds.climate.copernicus.eu/cdsapp#!/dataset/reanalysis-era5-single-levels?tab=overview\n",
    "\n",
    "https://cds.climate.copernicus.eu/cdsapp#!/yourrequests?tab=form\n",
    "\n",
    "https://apps.ecmwf.int/codes/grib/param-db  (to know which variables with accumulated values)"
   ]
  },
  {
   "cell_type": "code",
   "execution_count": 3,
   "metadata": {},
   "outputs": [
    {
     "data": {
      "text/plain": [
       "3"
      ]
     },
     "execution_count": 3,
     "metadata": {},
     "output_type": "execute_result"
    }
   ],
   "source": [
    "# vars=['u10', 'v10', 't2m', 'asn', 'sd', 'ssrdc', 'ssrd', 'tcc', 'tciw', 'tclw', 'tp']\n",
    "vars=['ssrdc', 'ssrd', 'tp']\n",
    "\n",
    "len(vars)"
   ]
  },
  {
   "cell_type": "code",
   "execution_count": 4,
   "metadata": {},
   "outputs": [],
   "source": [
    "var_ens = xr.concat([ds[vars]], dim = 'number')\n",
    "aggreg_ens=var_ens.groupby('time').mean(xr.ALL_DIMS)\n",
    "aggreg_ens=aggreg_ens.to_dataframe()"
   ]
  },
  {
   "cell_type": "code",
   "execution_count": 5,
   "metadata": {},
   "outputs": [
    {
     "data": {
      "text/html": [
       "<div>\n",
       "<style scoped>\n",
       "    .dataframe tbody tr th:only-of-type {\n",
       "        vertical-align: middle;\n",
       "    }\n",
       "\n",
       "    .dataframe tbody tr th {\n",
       "        vertical-align: top;\n",
       "    }\n",
       "\n",
       "    .dataframe thead th {\n",
       "        text-align: right;\n",
       "    }\n",
       "</style>\n",
       "<table border=\"1\" class=\"dataframe\">\n",
       "  <thead>\n",
       "    <tr style=\"text-align: right;\">\n",
       "      <th></th>\n",
       "      <th>ssrdc</th>\n",
       "      <th>ssrd</th>\n",
       "      <th>tp</th>\n",
       "    </tr>\n",
       "    <tr>\n",
       "      <th>time</th>\n",
       "      <th></th>\n",
       "      <th></th>\n",
       "      <th></th>\n",
       "    </tr>\n",
       "  </thead>\n",
       "  <tbody>\n",
       "    <tr>\n",
       "      <th>2019-01-01 00:00:00</th>\n",
       "      <td>8.019003e+05</td>\n",
       "      <td>706773.875</td>\n",
       "      <td>0.000141</td>\n",
       "    </tr>\n",
       "    <tr>\n",
       "      <th>2019-01-01 03:00:00</th>\n",
       "      <td>3.957017e+06</td>\n",
       "      <td>3486459.750</td>\n",
       "      <td>0.000127</td>\n",
       "    </tr>\n",
       "    <tr>\n",
       "      <th>2019-01-01 06:00:00</th>\n",
       "      <td>3.174740e+06</td>\n",
       "      <td>2538458.750</td>\n",
       "      <td>0.000139</td>\n",
       "    </tr>\n",
       "  </tbody>\n",
       "</table>\n",
       "</div>"
      ],
      "text/plain": [
       "                            ssrdc         ssrd        tp\n",
       "time                                                    \n",
       "2019-01-01 00:00:00  8.019003e+05   706773.875  0.000141\n",
       "2019-01-01 03:00:00  3.957017e+06  3486459.750  0.000127\n",
       "2019-01-01 06:00:00  3.174740e+06  2538458.750  0.000139"
      ]
     },
     "execution_count": 5,
     "metadata": {},
     "output_type": "execute_result"
    }
   ],
   "source": [
    "aggreg_ens.head()\n",
    "# aggreg_ens.describe()"
   ]
  },
  {
   "cell_type": "code",
   "execution_count": 8,
   "metadata": {},
   "outputs": [
    {
     "data": {
      "text/html": [
       "<div>\n",
       "<style scoped>\n",
       "    .dataframe tbody tr th:only-of-type {\n",
       "        vertical-align: middle;\n",
       "    }\n",
       "\n",
       "    .dataframe tbody tr th {\n",
       "        vertical-align: top;\n",
       "    }\n",
       "\n",
       "    .dataframe thead th {\n",
       "        text-align: right;\n",
       "    }\n",
       "</style>\n",
       "<table border=\"1\" class=\"dataframe\">\n",
       "  <thead>\n",
       "    <tr style=\"text-align: right;\">\n",
       "      <th></th>\n",
       "      <th>ssrdc</th>\n",
       "      <th>ssrd</th>\n",
       "      <th>tp</th>\n",
       "    </tr>\n",
       "  </thead>\n",
       "  <tbody>\n",
       "    <tr>\n",
       "      <th>count</th>\n",
       "      <td>1.300000e+01</td>\n",
       "      <td>13.000</td>\n",
       "      <td>13.000000</td>\n",
       "    </tr>\n",
       "    <tr>\n",
       "      <th>mean</th>\n",
       "      <td>2.896950e+06</td>\n",
       "      <td>2482851.750</td>\n",
       "      <td>0.000134</td>\n",
       "    </tr>\n",
       "    <tr>\n",
       "      <th>std</th>\n",
       "      <td>1.004227e+06</td>\n",
       "      <td>851910.375</td>\n",
       "      <td>0.000005</td>\n",
       "    </tr>\n",
       "    <tr>\n",
       "      <th>min</th>\n",
       "      <td>8.019003e+05</td>\n",
       "      <td>706773.875</td>\n",
       "      <td>0.000127</td>\n",
       "    </tr>\n",
       "    <tr>\n",
       "      <th>25%</th>\n",
       "      <td>2.379459e+06</td>\n",
       "      <td>2096616.750</td>\n",
       "      <td>0.000131</td>\n",
       "    </tr>\n",
       "    <tr>\n",
       "      <th>50%</th>\n",
       "      <td>3.305120e+06</td>\n",
       "      <td>2696459.000</td>\n",
       "      <td>0.000134</td>\n",
       "    </tr>\n",
       "    <tr>\n",
       "      <th>75%</th>\n",
       "      <td>3.565878e+06</td>\n",
       "      <td>3023178.750</td>\n",
       "      <td>0.000137</td>\n",
       "    </tr>\n",
       "    <tr>\n",
       "      <th>max</th>\n",
       "      <td>3.957017e+06</td>\n",
       "      <td>3486459.750</td>\n",
       "      <td>0.000141</td>\n",
       "    </tr>\n",
       "  </tbody>\n",
       "</table>\n",
       "</div>"
      ],
      "text/plain": [
       "              ssrdc         ssrd         tp\n",
       "count  1.300000e+01       13.000  13.000000\n",
       "mean   2.896950e+06  2482851.750   0.000134\n",
       "std    1.004227e+06   851910.375   0.000005\n",
       "min    8.019003e+05   706773.875   0.000127\n",
       "25%    2.379459e+06  2096616.750   0.000131\n",
       "50%    3.305120e+06  2696459.000   0.000134\n",
       "75%    3.565878e+06  3023178.750   0.000137\n",
       "max    3.957017e+06  3486459.750   0.000141"
      ]
     },
     "execution_count": 8,
     "metadata": {},
     "output_type": "execute_result"
    }
   ],
   "source": [
    "resampled_data = aggreg_ens.resample('30min').interpolate()\n",
    "resampled_data.head()\n",
    "resampled_data.describe()"
   ]
  },
  {
   "cell_type": "code",
   "execution_count": 10,
   "metadata": {},
   "outputs": [
    {
     "data": {
      "text/plain": [
       "<matplotlib.axes._subplots.AxesSubplot at 0x1f0d8836400>"
      ]
     },
     "execution_count": 10,
     "metadata": {},
     "output_type": "execute_result"
    },
    {
     "data": {
      "image/png": "[encoded data removed]",
      "text/plain": [
       "<Figure size 432x288 with 1 Axes>"
      ]
     },
     "metadata": {
      "needs_background": "light"
     },
     "output_type": "display_data"
    }
   ],
   "source": [
    "# df_plt=resampled_data.loc['2017-1-1':'2017-1-10']\n",
    "df_plt=resampled_data.loc['2019-1-1':'2019-1-10']\n",
    "\n",
    "df_plt['ssrd'].plot()\n",
    "df_plt['ssrdc'].plot()"
   ]
  },
  {
   "cell_type": "markdown",
   "metadata": {},
   "source": [
    "https://apps.ecmwf.int/codes/grib/param-db  (to know which variables with accumulated values)\n",
    "\n",
    "https://confluence.ecmwf.int/pages/viewpage.action?pageId=111155330\n",
    "\n",
    "These are the variables that attributed with accumulated fields:\n",
    "\n",
    "\"snow_depth\", \"surface_solar_radiation_downward_clear_sky\", \"surface_solar_radiation_downwards\",  \"total_precipitation\"\n",
    "vars=['sd', 'ssrdc', 'ssrd', 'tp']\n"
   ]
  },
  {
   "cell_type": "code",
   "execution_count": 11,
   "metadata": {},
   "outputs": [
    {
     "name": "stdout",
     "output_type": "stream",
     "text": [
      "                            ssrdc         ssrd\n",
      "time                                          \n",
      "2019-01-01 00:00:00  8.019003e+05   706773.875\n",
      "2019-01-01 00:30:00  1.327753e+06  1170054.875\n",
      "2019-01-01 01:00:00  1.853606e+06  1633335.875\n",
      "2019-01-01 01:30:00  2.379459e+06  2096616.750\n",
      "2019-01-01 02:00:00  2.905312e+06  2559897.750\n",
      "2019-01-01 02:30:00  3.431164e+06  3023178.750\n",
      "2019-01-01 03:00:00  3.957017e+06  3486459.750\n",
      "2019-01-01 03:30:00  3.826638e+06  3328459.500\n",
      "2019-01-01 04:00:00  3.696258e+06  3170459.500\n",
      "                          ssrdc        ssrd\n",
      "time                                       \n",
      "2019-01-01 00:00:00   74.250031   65.442024\n",
      "2019-01-01 00:30:00  122.940102  108.338417\n",
      "2019-01-01 01:00:00  171.630173  151.234802\n",
      "2019-01-01 01:30:00  220.320251  194.131180\n",
      "2019-01-01 02:00:00  269.010315  237.027573\n",
      "2019-01-01 02:30:00  317.700378  279.923950\n",
      "2019-01-01 03:00:00  366.390472  322.820343\n",
      "2019-01-01 03:30:00  354.318298  308.190704\n",
      "2019-01-01 04:00:00  342.246124  293.561066\n"
     ]
    }
   ],
   "source": [
    "df_acc=resampled_data[['ssrdc', 'ssrd']]\n",
    "df_avg=df_acc/(3*3600)\n",
    "# df_avg.head()\n",
    "# df_acc\n",
    "# 2017-01-01 00:00:00'\n",
    "print(df_acc.head(9))\n",
    "print(df_avg.head(9))"
   ]
  },
  {
   "cell_type": "code",
   "execution_count": 13,
   "metadata": {},
   "outputs": [
    {
     "data": {
      "text/plain": [
       "<matplotlib.axes._subplots.AxesSubplot at 0x1f0d895e518>"
      ]
     },
     "execution_count": 13,
     "metadata": {},
     "output_type": "execute_result"
    },
    {
     "data": {
      "image/png": "[encoded data removed]",
      "text/plain": [
       "<Figure size 432x288 with 1 Axes>"
      ]
     },
     "metadata": {
      "needs_background": "light"
     },
     "output_type": "display_data"
    }
   ],
   "source": [
    "# df_plt=df_avg.loc['2017-1-1':'2017-1-10']\n",
    "df_plt=df_avg.loc['2019-1-1':'2019-1-10']\n",
    "\n",
    "df_plt['ssrd'].plot()\n",
    "df_plt['ssrdc'].plot()"
   ]
  },
  {
   "cell_type": "code",
   "execution_count": 14,
   "metadata": {},
   "outputs": [
    {
     "data": {
      "text/plain": [
       "<matplotlib.axes._subplots.AxesSubplot at 0x1f0d89c0080>"
      ]
     },
     "execution_count": 14,
     "metadata": {},
     "output_type": "execute_result"
    },
    {
     "data": {
      "image/png": "[encoded data removed]",
      "text/plain": [
       "<Figure size 432x288 with 1 Axes>"
      ]
     },
     "metadata": {
      "needs_background": "light"
     },
     "output_type": "display_data"
    }
   ],
   "source": [
    "# df_plt=resampled_data['2017-1-1':'2018-12-31']\n",
    "df_plt=resampled_data['2019-1-1':'2019-12-31']\n",
    "\n",
    "df_plt['ssrd'].plot()\n",
    "# df_plt['ssrdc'].plot()"
   ]
  },
  {
   "cell_type": "code",
   "execution_count": 15,
   "metadata": {},
   "outputs": [
    {
     "data": {
      "text/html": [
       "<div>\n",
       "<style scoped>\n",
       "    .dataframe tbody tr th:only-of-type {\n",
       "        vertical-align: middle;\n",
       "    }\n",
       "\n",
       "    .dataframe tbody tr th {\n",
       "        vertical-align: top;\n",
       "    }\n",
       "\n",
       "    .dataframe thead th {\n",
       "        text-align: right;\n",
       "    }\n",
       "</style>\n",
       "<table border=\"1\" class=\"dataframe\">\n",
       "  <thead>\n",
       "    <tr style=\"text-align: right;\">\n",
       "      <th></th>\n",
       "      <th>ssrdc</th>\n",
       "      <th>ssrd</th>\n",
       "      <th>tp</th>\n",
       "    </tr>\n",
       "    <tr>\n",
       "      <th>time</th>\n",
       "      <th></th>\n",
       "      <th></th>\n",
       "      <th></th>\n",
       "    </tr>\n",
       "  </thead>\n",
       "  <tbody>\n",
       "    <tr>\n",
       "      <th>2019-01-01 00:00:00</th>\n",
       "      <td>74.250031</td>\n",
       "      <td>65.442024</td>\n",
       "      <td>0.000141</td>\n",
       "    </tr>\n",
       "    <tr>\n",
       "      <th>2019-01-01 00:30:00</th>\n",
       "      <td>122.940102</td>\n",
       "      <td>108.338417</td>\n",
       "      <td>0.000139</td>\n",
       "    </tr>\n",
       "    <tr>\n",
       "      <th>2019-01-01 01:00:00</th>\n",
       "      <td>171.630173</td>\n",
       "      <td>151.234802</td>\n",
       "      <td>0.000136</td>\n",
       "    </tr>\n",
       "    <tr>\n",
       "      <th>2019-01-01 01:30:00</th>\n",
       "      <td>220.320251</td>\n",
       "      <td>194.131180</td>\n",
       "      <td>0.000134</td>\n",
       "    </tr>\n",
       "    <tr>\n",
       "      <th>2019-01-01 02:00:00</th>\n",
       "      <td>269.010315</td>\n",
       "      <td>237.027573</td>\n",
       "      <td>0.000131</td>\n",
       "    </tr>\n",
       "    <tr>\n",
       "      <th>2019-01-01 02:30:00</th>\n",
       "      <td>317.700378</td>\n",
       "      <td>279.923950</td>\n",
       "      <td>0.000129</td>\n",
       "    </tr>\n",
       "    <tr>\n",
       "      <th>2019-01-01 03:00:00</th>\n",
       "      <td>366.390472</td>\n",
       "      <td>322.820343</td>\n",
       "      <td>0.000127</td>\n",
       "    </tr>\n",
       "    <tr>\n",
       "      <th>2019-01-01 03:30:00</th>\n",
       "      <td>354.318298</td>\n",
       "      <td>308.190704</td>\n",
       "      <td>0.000129</td>\n",
       "    </tr>\n",
       "    <tr>\n",
       "      <th>2019-01-01 04:00:00</th>\n",
       "      <td>342.246124</td>\n",
       "      <td>293.561066</td>\n",
       "      <td>0.000131</td>\n",
       "    </tr>\n",
       "  </tbody>\n",
       "</table>\n",
       "</div>"
      ],
      "text/plain": [
       "                          ssrdc        ssrd        tp\n",
       "time                                                 \n",
       "2019-01-01 00:00:00   74.250031   65.442024  0.000141\n",
       "2019-01-01 00:30:00  122.940102  108.338417  0.000139\n",
       "2019-01-01 01:00:00  171.630173  151.234802  0.000136\n",
       "2019-01-01 01:30:00  220.320251  194.131180  0.000134\n",
       "2019-01-01 02:00:00  269.010315  237.027573  0.000131\n",
       "2019-01-01 02:30:00  317.700378  279.923950  0.000129\n",
       "2019-01-01 03:00:00  366.390472  322.820343  0.000127\n",
       "2019-01-01 03:30:00  354.318298  308.190704  0.000129\n",
       "2019-01-01 04:00:00  342.246124  293.561066  0.000131"
      ]
     },
     "execution_count": 15,
     "metadata": {},
     "output_type": "execute_result"
    }
   ],
   "source": [
    "resampled_data[['ssrdc', 'ssrd']]=df_avg\n",
    "resampled_data.head(9)"
   ]
  },
  {
   "cell_type": "code",
   "execution_count": 18,
   "metadata": {},
   "outputs": [
    {
     "data": {
      "text/plain": [
       "<matplotlib.axes._subplots.AxesSubplot at 0x1f0d8a0fa90>"
      ]
     },
     "execution_count": 18,
     "metadata": {},
     "output_type": "execute_result"
    },
    {
     "data": {
      "image/png": "[encoded data removed]",
      "text/plain": [
       "<Figure size 432x288 with 1 Axes>"
      ]
     },
     "metadata": {
      "needs_background": "light"
     },
     "output_type": "display_data"
    }
   ],
   "source": [
    "# df_plt=df_avg.loc['2017-1-1':'2017-1-10']\n",
    "df_plt=resampled_data.loc['2019-1-1':'2019-1-10']\n",
    "\n",
    "df_plt['ssrd'].plot()\n",
    "df_plt['ssrdc'].plot()"
   ]
  },
  {
   "cell_type": "code",
   "execution_count": 16,
   "metadata": {},
   "outputs": [],
   "source": [
    "# resampled_data.to_csv('Hokk_Ens_Aggreg_S1_S2_2017_2018.csv')"
   ]
  },
  {
   "cell_type": "code",
   "execution_count": 19,
   "metadata": {},
   "outputs": [],
   "source": [
    "res_dx=pd.to_datetime(resampled_data.index.strftime('%Y-%m-%d %H:%M:%S'))\n",
    "res_dx_utc=res_dx.tz_localize('UTC')\n",
    "res_jp=res_dx_utc.tz_convert('Japan')\n",
    "form_res_jp=res_jp.strftime('%Y-%m-%d %H:%M:%S')\n",
    "# print(res_dx)\n",
    "# print(res_dx_utc)\n",
    "# print(res_jp)\n",
    "# print(form_res_jp)"
   ]
  },
  {
   "cell_type": "code",
   "execution_count": 20,
   "metadata": {},
   "outputs": [
    {
     "data": {
      "text/html": [
       "<div>\n",
       "<style scoped>\n",
       "    .dataframe tbody tr th:only-of-type {\n",
       "        vertical-align: middle;\n",
       "    }\n",
       "\n",
       "    .dataframe tbody tr th {\n",
       "        vertical-align: top;\n",
       "    }\n",
       "\n",
       "    .dataframe thead th {\n",
       "        text-align: right;\n",
       "    }\n",
       "</style>\n",
       "<table border=\"1\" class=\"dataframe\">\n",
       "  <thead>\n",
       "    <tr style=\"text-align: right;\">\n",
       "      <th></th>\n",
       "      <th>DATE</th>\n",
       "      <th>TIME</th>\n",
       "      <th>ssrdc</th>\n",
       "      <th>ssrd</th>\n",
       "      <th>tp</th>\n",
       "    </tr>\n",
       "    <tr>\n",
       "      <th>time</th>\n",
       "      <th></th>\n",
       "      <th></th>\n",
       "      <th></th>\n",
       "      <th></th>\n",
       "      <th></th>\n",
       "    </tr>\n",
       "  </thead>\n",
       "  <tbody>\n",
       "    <tr>\n",
       "      <th>2019-01-01 00:00:00</th>\n",
       "      <td>2019-01-01</td>\n",
       "      <td>09:00:00</td>\n",
       "      <td>74.250031</td>\n",
       "      <td>65.442024</td>\n",
       "      <td>0.000141</td>\n",
       "    </tr>\n",
       "    <tr>\n",
       "      <th>2019-01-01 00:30:00</th>\n",
       "      <td>2019-01-01</td>\n",
       "      <td>09:30:00</td>\n",
       "      <td>122.940102</td>\n",
       "      <td>108.338417</td>\n",
       "      <td>0.000139</td>\n",
       "    </tr>\n",
       "    <tr>\n",
       "      <th>2019-01-01 01:00:00</th>\n",
       "      <td>2019-01-01</td>\n",
       "      <td>10:00:00</td>\n",
       "      <td>171.630173</td>\n",
       "      <td>151.234802</td>\n",
       "      <td>0.000136</td>\n",
       "    </tr>\n",
       "    <tr>\n",
       "      <th>2019-01-01 01:30:00</th>\n",
       "      <td>2019-01-01</td>\n",
       "      <td>10:30:00</td>\n",
       "      <td>220.320251</td>\n",
       "      <td>194.131180</td>\n",
       "      <td>0.000134</td>\n",
       "    </tr>\n",
       "    <tr>\n",
       "      <th>2019-01-01 02:00:00</th>\n",
       "      <td>2019-01-01</td>\n",
       "      <td>11:00:00</td>\n",
       "      <td>269.010315</td>\n",
       "      <td>237.027573</td>\n",
       "      <td>0.000131</td>\n",
       "    </tr>\n",
       "  </tbody>\n",
       "</table>\n",
       "</div>"
      ],
      "text/plain": [
       "                           DATE      TIME       ssrdc        ssrd        tp\n",
       "time                                                                       \n",
       "2019-01-01 00:00:00  2019-01-01  09:00:00   74.250031   65.442024  0.000141\n",
       "2019-01-01 00:30:00  2019-01-01  09:30:00  122.940102  108.338417  0.000139\n",
       "2019-01-01 01:00:00  2019-01-01  10:00:00  171.630173  151.234802  0.000136\n",
       "2019-01-01 01:30:00  2019-01-01  10:30:00  220.320251  194.131180  0.000134\n",
       "2019-01-01 02:00:00  2019-01-01  11:00:00  269.010315  237.027573  0.000131"
      ]
     },
     "execution_count": 20,
     "metadata": {},
     "output_type": "execute_result"
    }
   ],
   "source": [
    "resampled_data.insert(0, 'DATE', res_jp.date)\n",
    "resampled_data.insert(1, 'TIME', res_jp.time)\n",
    "\n",
    "resampled_data.head()"
   ]
  },
  {
   "cell_type": "code",
   "execution_count": 21,
   "metadata": {},
   "outputs": [],
   "source": [
    "### resampled_data.to_csv('Hokk_Ens_Agg_Res_Jp_lat43_2017_18.csv')  #just 1 latitude 43\n",
    "### resampled_data.to_csv('Hokk_Ens_Agg_Res_Jp_lat42_44_2017_18.csv') #here latitude ranges from 42-44\n",
    "# resampled_data.to_csv('Hokk_Ens_Agg_Res_Jp_lat42_44_Jan_2019.csv')  #just 1 latitude 43\n"
   ]
  },
  {
   "cell_type": "code",
   "execution_count": null,
   "metadata": {},
   "outputs": [],
   "source": []
  },
  {
   "cell_type": "code",
   "execution_count": null,
   "metadata": {},
   "outputs": [],
   "source": []
  },
  {
   "cell_type": "code",
   "execution_count": null,
   "metadata": {},
   "outputs": [],
   "source": []
  },
  {
   "cell_type": "code",
   "execution_count": null,
   "metadata": {},
   "outputs": [],
   "source": []
  },
  {
   "cell_type": "code",
   "execution_count": null,
   "metadata": {},
   "outputs": [],
   "source": []
  },
  {
   "cell_type": "code",
   "execution_count": null,
   "metadata": {},
   "outputs": [],
   "source": []
  },
  {
   "cell_type": "code",
   "execution_count": null,
   "metadata": {},
   "outputs": [],
   "source": []
  },
  {
   "cell_type": "code",
   "execution_count": null,
   "metadata": {},
   "outputs": [],
   "source": []
  },
  {
   "cell_type": "code",
   "execution_count": null,
   "metadata": {},
   "outputs": [],
   "source": []
  }
 ],
 "metadata": {
  "kernelspec": {
   "display_name": "Python 3",
   "language": "python",
   "name": "python3"
  },
  "language_info": {
   "codemirror_mode": {
    "name": "ipython",
    "version": 3
   },
   "file_extension": ".py",
   "mimetype": "text/x-python",
   "name": "python",
   "nbconvert_exporter": "python",
   "pygments_lexer": "ipython3",
   "version": "3.7.0"
  }
 },
 "nbformat": 4,
 "nbformat_minor": 1
}
